{
 "cells": [
  {
   "cell_type": "code",
   "execution_count": 2,
   "id": "cd04ac22",
   "metadata": {},
   "outputs": [
    {
     "name": "stdout",
     "output_type": "stream",
     "text": [
      "Streamlit 版本: 1.41.1\n",
      "Numpy 版本: 2.1.3\n",
      "Matplotlib 版本: 3.10.1\n"
     ]
    }
   ],
   "source": [
    "import streamlit as st\n",
    "import numpy as np\n",
    "import matplotlib as mt\n",
    "\n",
    "print(f\"Streamlit 版本: {st.__version__}\")\n",
    "print(f\"Numpy 版本: {np.__version__}\")\n",
    "print(f\"Matplotlib 版本: {mt.__version__}\")"
   ]
  },
  {
   "cell_type": "code",
   "execution_count": null,
   "id": "a9a3d711",
   "metadata": {},
   "outputs": [],
   "source": []
  }
 ],
 "metadata": {
  "kernelspec": {
   "display_name": "Python 3",
   "language": "python",
   "name": "python3"
  },
  "language_info": {
   "codemirror_mode": {
    "name": "ipython",
    "version": 3
   },
   "file_extension": ".py",
   "mimetype": "text/x-python",
   "name": "python",
   "nbconvert_exporter": "python",
   "pygments_lexer": "ipython3",
   "version": "3.12.8"
  }
 },
 "nbformat": 4,
 "nbformat_minor": 5
}
